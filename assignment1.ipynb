{
 "cells": [
  {
   "cell_type": "markdown",
   "id": "8806a814-4fca-4c1d-8f6d-e32831c1adc0",
   "metadata": {},
   "source": [
    "Q1. Create one variable containing following type of data:\n",
    "(i) string\n",
    "(ii) list\n",
    "(iii) float\n",
    "(iv) tuple"
   ]
  },
  {
   "cell_type": "code",
   "execution_count": 1,
   "id": "9b4562d8-5ef7-44be-bc65-accc18c1e881",
   "metadata": {},
   "outputs": [],
   "source": [
    "a=\" string \"\n",
    "b=[1,2,4,6,5,3,8,\"pw skils\",'data science']\n",
    "c=2.33\n",
    "d=('APPLE','ORANGE ','BANANA','GRAPHS')"
   ]
  },
  {
   "cell_type": "code",
   "execution_count": 2,
   "id": "27d994eb-8a74-4f72-82a9-4a57349c573a",
   "metadata": {},
   "outputs": [
    {
     "data": {
      "text/plain": [
       "str"
      ]
     },
     "execution_count": 2,
     "metadata": {},
     "output_type": "execute_result"
    }
   ],
   "source": [
    "type(a)"
   ]
  },
  {
   "cell_type": "code",
   "execution_count": 3,
   "id": "37fa2804-365f-495f-a480-35c9117930c8",
   "metadata": {},
   "outputs": [
    {
     "data": {
      "text/plain": [
       "list"
      ]
     },
     "execution_count": 3,
     "metadata": {},
     "output_type": "execute_result"
    }
   ],
   "source": [
    "type(b)"
   ]
  },
  {
   "cell_type": "code",
   "execution_count": 4,
   "id": "c17221dd-bd11-49b6-a6e7-9ee3837c1dcb",
   "metadata": {},
   "outputs": [
    {
     "data": {
      "text/plain": [
       "float"
      ]
     },
     "execution_count": 4,
     "metadata": {},
     "output_type": "execute_result"
    }
   ],
   "source": [
    "type(c)"
   ]
  },
  {
   "cell_type": "code",
   "execution_count": 5,
   "id": "cb4bcaa6-05a5-4501-9130-d66d13db97ce",
   "metadata": {},
   "outputs": [
    {
     "data": {
      "text/plain": [
       "tuple"
      ]
     },
     "execution_count": 5,
     "metadata": {},
     "output_type": "execute_result"
    }
   ],
   "source": [
    "type(d)"
   ]
  },
  {
   "cell_type": "markdown",
   "id": "dcad199e-2c2b-4bf0-a20d-a15b7f1b5552",
   "metadata": {},
   "source": [
    "Q2. Given are some following variables containing data:\n",
    "(i) var1 = ‘ ‘\n",
    "(ii) var2 = ‘[ DS , ML , Python]’\n",
    "(iii) var3 = [ ‘DS’ , ’ML’ , ‘Python’ ]\n",
    "(iv) var4 = 1.\n",
    "What will be the data type of the above given variable.Q2. Given are some following variables containing data:\n",
    "(i) var1 = ‘ ‘\n",
    "(ii) var2 = ‘[ DS , ML , Python]’\n",
    "(iii) var3 = [ ‘DS’ , ’ML’ , ‘Python’ ]\n",
    "(iv) var4 = 1.\n",
    "What will be the data type of the above given variable."
   ]
  },
  {
   "cell_type": "code",
   "execution_count": 10,
   "id": "c9f02800-1367-4213-944e-631dd23dd0bb",
   "metadata": {},
   "outputs": [],
   "source": [
    "var1 = ' '\n",
    "var2 = '[ DS , ML , Python]'\n",
    "var3 = [ 'DS' , 'ML' , 'Python' ]\n",
    "var4 = 1."
   ]
  },
  {
   "cell_type": "code",
   "execution_count": 11,
   "id": "4abf4a37-1a3e-4d37-816a-3f34490f59be",
   "metadata": {},
   "outputs": [
    {
     "data": {
      "text/plain": [
       "str"
      ]
     },
     "execution_count": 11,
     "metadata": {},
     "output_type": "execute_result"
    }
   ],
   "source": [
    "type(var1)\n"
   ]
  },
  {
   "cell_type": "code",
   "execution_count": 12,
   "id": "1994d1c0-9e6d-4d2e-94a3-d536930ceabd",
   "metadata": {},
   "outputs": [
    {
     "data": {
      "text/plain": [
       "str"
      ]
     },
     "execution_count": 12,
     "metadata": {},
     "output_type": "execute_result"
    }
   ],
   "source": [
    "type(var2)"
   ]
  },
  {
   "cell_type": "code",
   "execution_count": 13,
   "id": "8e6569ea-ba0d-4c75-adb9-0e0a09e0437a",
   "metadata": {},
   "outputs": [
    {
     "data": {
      "text/plain": [
       "list"
      ]
     },
     "execution_count": 13,
     "metadata": {},
     "output_type": "execute_result"
    }
   ],
   "source": [
    "type(var3)"
   ]
  },
  {
   "cell_type": "code",
   "execution_count": 14,
   "id": "39bf4a14-3170-4d8e-8efe-9b89f410ec85",
   "metadata": {},
   "outputs": [
    {
     "data": {
      "text/plain": [
       "float"
      ]
     },
     "execution_count": 14,
     "metadata": {},
     "output_type": "execute_result"
    }
   ],
   "source": [
    "type(var4)"
   ]
  },
  {
   "cell_type": "markdown",
   "id": "fa1a153a-23c9-48d5-a98a-145b49772dcf",
   "metadata": {},
   "source": [
    "Q3. Explain the use of the following operators using an example:\n",
    "(i) /\n",
    "(ii) %\n",
    "(iii) //\n",
    "(iv) **"
   ]
  },
  {
   "cell_type": "code",
   "execution_count": 17,
   "id": "54b64f51-2660-4950-b909-6896cd76b3bc",
   "metadata": {},
   "outputs": [
    {
     "data": {
      "text/plain": [
       "2.0"
      ]
     },
     "execution_count": 17,
     "metadata": {},
     "output_type": "execute_result"
    }
   ],
   "source": [
    "10/5  #division"
   ]
  },
  {
   "cell_type": "code",
   "execution_count": 19,
   "id": "09bc0471-8b5d-4472-934d-8c4c5bbdbee8",
   "metadata": {},
   "outputs": [
    {
     "data": {
      "text/plain": [
       "1"
      ]
     },
     "execution_count": 19,
     "metadata": {},
     "output_type": "execute_result"
    }
   ],
   "source": [
    "5%2  #remainder "
   ]
  },
  {
   "cell_type": "code",
   "execution_count": 20,
   "id": "ef13f23f-aaeb-4a29-a503-4b0c6ed8df54",
   "metadata": {},
   "outputs": [
    {
     "data": {
      "text/plain": [
       "5"
      ]
     },
     "execution_count": 20,
     "metadata": {},
     "output_type": "execute_result"
    }
   ],
   "source": [
    "10//2"
   ]
  },
  {
   "cell_type": "code",
   "execution_count": 21,
   "id": "19214c06-67e8-4c6a-94d7-7884698ab17b",
   "metadata": {},
   "outputs": [
    {
     "data": {
      "text/plain": [
       "3"
      ]
     },
     "execution_count": 21,
     "metadata": {},
     "output_type": "execute_result"
    }
   ],
   "source": [
    "10//3  # floor division\n"
   ]
  },
  {
   "cell_type": "code",
   "execution_count": 3,
   "id": "607452b7-942f-48ef-b0fe-a0d5f09e0b5e",
   "metadata": {},
   "outputs": [
    {
     "data": {
      "text/plain": [
       "1024"
      ]
     },
     "execution_count": 3,
     "metadata": {},
     "output_type": "execute_result"
    }
   ],
   "source": [
    "2**10 #power operator"
   ]
  },
  {
   "cell_type": "markdown",
   "id": "1e3199e0-0770-4732-aa48-31e081440139",
   "metadata": {},
   "source": [
    "Q4. Create a list of length 10 of your choice containing multiple types of data. Using for loop print the\n",
    "element and its data type."
   ]
  },
  {
   "cell_type": "code",
   "execution_count": 7,
   "id": "a9e8e7e3-554e-4abc-a976-c5afc3f58c31",
   "metadata": {},
   "outputs": [
    {
     "name": "stdout",
     "output_type": "stream",
     "text": [
      "10\n",
      "<class 'int'>\n",
      "<class 'float'>\n",
      "<class 'str'>\n",
      "<class 'int'>\n",
      "<class 'bool'>\n",
      "<class 'list'>\n",
      "<class 'bool'>\n",
      "<class 'NoneType'>\n",
      "<class 'tuple'>\n",
      "<class 'dict'>\n"
     ]
    }
   ],
   "source": [
    "lst=[1,2.31,'strings',4,4==5,[1, 2, 3],True,None,(8,3,9,1),{'name': 'John', 'age': 25}]\n",
    "print(len(lst))\n",
    "\n",
    "for element in lst:\n",
    "    print(type(element))\n",
    "    "
   ]
  },
  {
   "cell_type": "markdown",
   "id": "a414bae8-1364-4304-b53f-2f6bd9113e5f",
   "metadata": {},
   "source": [
    "Q5. Using a while loop, verify if the number A is purely divisible by number B and if so then how many\n",
    "times it can be divisible."
   ]
  },
  {
   "cell_type": "code",
   "execution_count": 8,
   "id": "4a01e4f9-c7eb-4de6-b139-46fe10611676",
   "metadata": {},
   "outputs": [
    {
     "name": "stdin",
     "output_type": "stream",
     "text": [
      "Enter number A:  23425332\n",
      "Enter number B:  12\n"
     ]
    },
    {
     "name": "stdout",
     "output_type": "stream",
     "text": [
      "Number A can be divided by number B 1 times.\n"
     ]
    }
   ],
   "source": [
    "A = int(input(\"Enter number A: \"))\n",
    "B = int(input(\"Enter number B: \"))\n",
    "\n",
    "count = 0\n",
    "\n",
    "while A % B == 0:\n",
    "    A = A / B\n",
    "    count += 1\n",
    "\n",
    "print(\"Number A can be divided by number B\", count, \"times.\")\n"
   ]
  },
  {
   "cell_type": "markdown",
   "id": "772bb3d5-3656-4740-bbde-e175e6a8a69c",
   "metadata": {},
   "source": [
    "Q6. Create a list containing 25 int type data. Using for loop and if-else condition print if the element is\n",
    "divisible by 3 or not.\n"
   ]
  },
  {
   "cell_type": "code",
   "execution_count": 9,
   "id": "fa6448c3-4564-4bc9-a627-8b267682b339",
   "metadata": {},
   "outputs": [
    {
     "name": "stdout",
     "output_type": "stream",
     "text": [
      "8 is not divisible by 3\n",
      "15 is divisible by 3\n",
      "3 is divisible by 3\n",
      "27 is divisible by 3\n",
      "10 is not divisible by 3\n",
      "5 is not divisible by 3\n",
      "21 is divisible by 3\n",
      "18 is divisible by 3\n",
      "7 is not divisible by 3\n",
      "13 is not divisible by 3\n",
      "30 is divisible by 3\n",
      "12 is divisible by 3\n",
      "9 is divisible by 3\n",
      "17 is not divisible by 3\n",
      "22 is not divisible by 3\n",
      "6 is divisible by 3\n",
      "11 is not divisible by 3\n",
      "20 is not divisible by 3\n",
      "24 is divisible by 3\n",
      "2 is not divisible by 3\n",
      "4 is not divisible by 3\n",
      "19 is not divisible by 3\n",
      "14 is not divisible by 3\n",
      "1 is not divisible by 3\n",
      "16 is not divisible by 3\n"
     ]
    }
   ],
   "source": [
    "my_list = [8, 15, 3, 27, 10, 5, 21, 18, 7, 13, 30, 12, 9, 17, 22, 6, 11, 20, 24, 2, 4, 19, 14, 1, 16]\n",
    "\n",
    "for num in my_list:\n",
    "    if num % 3 == 0:\n",
    "        print(num, \"is divisible by 3\")\n",
    "    else:\n",
    "        print(num, \"is not divisible by 3\")\n"
   ]
  },
  {
   "cell_type": "markdown",
   "id": "5d6c5a21-788f-4f7f-b8ae-f900aaab1a14",
   "metadata": {},
   "source": [
    "Q7. What do you understand about mutable and immutable data types? Give examples for both showing\n",
    "this property."
   ]
  },
  {
   "cell_type": "code",
   "execution_count": 12,
   "id": "9ab8e46c-efc7-409b-ad05-375298d3857b",
   "metadata": {},
   "outputs": [
    {
     "name": "stdout",
     "output_type": "stream",
     "text": [
      "Original value of x: 5\n",
      "Modified value of x: 10\n",
      "Original list: [1, 2, 3]\n",
      "Modified list: [1, 2, 3, 4]\n"
     ]
    }
   ],
   "source": [
    "#Immutable data types cannot be modified after they are created. \n",
    "#Examples of immutable data types are integers, floats, strings, and tuples.\n",
    "\n",
    "x = 5\n",
    "print(\"Original value of x:\", x)\n",
    "\n",
    "x = 10  # Assigning a new value to x\n",
    "\n",
    "print(\"Modified value of x:\", x)\n",
    "\n",
    "#Mutable data types can be modified after they are created. \n",
    "#Examples of mutable data types include lists.\n",
    "\n",
    "\n",
    "lst = [1, 2, 3]\n",
    "print(\"Original list:\", lst)\n",
    "\n",
    "lst.append(4)  # Modifying the list by adding an element\n",
    "\n",
    "print(\"Modified list:\",lst)\n"
   ]
  }
 ],
 "metadata": {
  "kernelspec": {
   "display_name": "Python 3 (ipykernel)",
   "language": "python",
   "name": "python3"
  },
  "language_info": {
   "codemirror_mode": {
    "name": "ipython",
    "version": 3
   },
   "file_extension": ".py",
   "mimetype": "text/x-python",
   "name": "python",
   "nbconvert_exporter": "python",
   "pygments_lexer": "ipython3",
   "version": "3.10.8"
  }
 },
 "nbformat": 4,
 "nbformat_minor": 5
}
