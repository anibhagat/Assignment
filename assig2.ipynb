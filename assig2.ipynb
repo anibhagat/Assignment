{
 "cells": [
  {
   "cell_type": "markdown",
   "id": "fdbd17d1-e3cb-4134-9001-eb369638f3e1",
   "metadata": {},
   "source": [
    " ### Assignment-2"
   ]
  },
  {
   "cell_type": "raw",
   "id": "ac4b08e2-66a4-4752-baad-752c11080915",
   "metadata": {},
   "source": [
    "\n",
    "Q9. Create a variable named name and assign your full name to it as a string. How would you print the\n",
    "value of this variable?\n",
    "Q10. Given the string \"Hello, World!\", extract the substring \"World\".\n",
    "Q11. Create a variable named \"is_student\" and assign it a boolean value indicating whether you are\n",
    "currently a student or not."
   ]
  },
  {
   "cell_type": "markdown",
   "id": "b525ad48-8b3a-4af4-ac5d-ef7b4b27a0fe",
   "metadata": {},
   "source": [
    "Q1. How do you comment code in Python? What are the different types of comments?"
   ]
  },
  {
   "cell_type": "raw",
   "id": "9d899e07-f414-49ad-9a99-85543c2d9172",
   "metadata": {},
   "source": [
    "any code can be commented in python by using #.... by hach\n",
    "comment is used so that we can avoid the execution of code and also markdown the notes .\n",
    "answer:\n",
    "\n",
    "there are two types of comments types.\n",
    "1.single type of  comment.\n",
    "for example # this example for single link comment .\n",
    "2.multiple line comment \n",
    "for example \n",
    "''' this is example for multiple line \n",
    " we can comment multipl lines \n",
    "    here '''"
   ]
  },
  {
   "cell_type": "raw",
   "id": "c049f29a-bf4f-402e-9852-28de058f56aa",
   "metadata": {},
   "source": [
    "Q2. What are variables in Python? How do you declare and assign values to variables?\n",
    "answer:\n",
    "\n",
    "In Python, variables are named containers used to store data. \n",
    "To declare and assign values to variables, you use the \"=\" operator:\n",
    "\n",
    "variable_name = value\n",
    "\n",
    "\n",
    "For example:\n",
    "name = \"John\"\n",
    "age = 25\n",
    "\n",
    "Variable names can start with a letter or an underscore, followed by letters, digits, and underscores. \n",
    "Python infers the data type from the assigned value, so you don't need to specify it explicitly.\n",
    "Variables make it easier to work with and manipulate data in your code."
   ]
  },
  {
   "cell_type": "raw",
   "id": "6086ec75-072c-4023-9204-8165c02408aa",
   "metadata": {},
   "source": [
    "Q3. How do you convert one data type to another in Python?\n",
    "answer:\n",
    "\n",
    "in python there are many methods in which we can convert the function tomother functions \n",
    "\n",
    "1.Implicit Type Conversion (Coercion):\n",
    "for example, when performing operations between integers and floats. \n",
    "This type of conversion is called implicit type conversion or coercion.\n",
    "\n",
    "x = 5   # int\n",
    "y = 2.0 # float\n",
    "\n",
    "result = x + y  # Implicit conversion of int to float before addition\n",
    "print(result)   # Output: 7.0\n",
    "\n",
    "\n",
    "2.Explicit Type Conversion (Type Casting):\n",
    "\n",
    "   a. int(): Converts to an integer (rounding down for float).\n",
    "   b. float(): Converts to a floating-point number.\n",
    "   c. str(): Converts to a string.\n",
    "   d. list(): Converts to a list.\n",
    "   e. tuple(): Converts to a tuple.\n",
    "   f. set(): Converts to a set.\n",
    "   g. dict(): Converts to a dictionary.\n",
    "\n",
    "# Example 1: Converting from int to float\n",
    "x = 10\n",
    "y = float(x)\n",
    "print(y)  # Output: 10.0\n",
    "\n",
    "# Example 2: Converting from float to int\n",
    "a = 3.7\n",
    "b = int(a)\n",
    "print(b)  # Output: 3\n",
    "\n",
    "# Example 3: Converting from int to string\n",
    "num = 42\n",
    "string_num = str(num)\n",
    "print(string_num)  # Output: \"42\"\n",
    "\n",
    "# Example 4: Converting from string to int\n",
    "str_num = \"100\"\n",
    "int_num = int(str_num)\n",
    "print(int_num)  # Output: 100\n",
    "\n",
    "# Example 5: Converting from list to tuple\n",
    "my_list = [1, 2, 3]\n",
    "my_tuple = tuple(my_list)\n",
    "print(my_tuple)  # Output: (1, 2, 3)\n",
    "```\n",
    "\n",
    "3.Custom Type Conversion:\n",
    "For user-defined classes, you can define custom methods \n",
    "like `__int__`, `__float__`, or `__str__` to specify how the object should be converted to \n",
    "the desired data type.\n",
    "\n",
    "class MyClass:\n",
    "    def __init__(self, value):\n",
    "        self.value = value\n",
    "\n",
    "    def __int__(self):\n",
    "        return int(self.value)\n",
    "\n",
    "    def __float__(self):\n",
    "        return float(self.value)\n",
    "\n",
    "obj = MyClass(3.14)\n",
    "print(int(obj))   # Output: 3\n",
    "print(float(obj)) # Output: 3.14\n"
   ]
  },
  {
   "cell_type": "raw",
   "id": "d89be4fe-c770-41d9-93a9-b78a9fc28f08",
   "metadata": {},
   "source": [
    " Q4. How do you write and execute a Python script from the command line?\n",
    " answwer:\n",
    "\n",
    "Executing Python scripts in Jupyter Notebook:\n",
    "Open Jupyter Notebook:\n",
    "Create a New Notebook:\n",
    "   In Jupyter Notebook, click on the \"New\" button and select \"Python 3\" under \"Notebooks\" to create a new Python notebook.\n",
    "\n",
    " Write Python Code:\n",
    "   In the notebook cell, write your Python code. For example, \"Hello, World!\" example:\n",
    "\n",
    "\n",
    "   print(\"Hello, World!\")\n",
    "\n",
    "\n",
    " Execute the Cell:\n",
    "   To execute the code in the cell, press `Shift + Enter` or click the \"Run\" button in the toolbar.\n",
    "\n",
    " Output:\n",
    "   After running the cell, you will see the output displayed below the cell:\n",
    "   \n",
    "   Hello, World!"
   ]
  },
  {
   "cell_type": "raw",
   "id": "045a2b63-6e19-4e31-875f-6f4621ac12fc",
   "metadata": {},
   "source": [
    "Q5. Given a list my_list = [1, 2, 3, 4, 5], \n",
    "write the code to slice the list and obtain the sub-list [2, 3].\n",
    "\n",
    "\n",
    "\n",
    "Answer:\n",
    "my_list = [1, 2, 3, 4, 5]\n",
    "sub_list = my_list[1:3]\n",
    "print(sub_list)\n"
   ]
  },
  {
   "cell_type": "raw",
   "id": "6ca317c6-e77d-4708-a09c-ffd3678809c1",
   "metadata": {},
   "source": [
    "Q6. What is a complex number in mathematics, and how is it represented in Python?\n",
    "answer:\n",
    "\n",
    "In mathematics, \n",
    "a complex number is a number of the form \"a + bi\", \n",
    "where \"a\" and \"b\" are real numbers, and \"i\" is the imaginary unit. \n",
    "The imaginary unit \"i\" is defined as the square root of -1. \n",
    "The real part of the complex number is \"a\", and the imaginary part is \"b\".\n",
    "\n",
    "In the complex number \"a + bi\":\n",
    " \"a\" is the real part.\n",
    " \"b\" is the imaginary part.\n",
    " \"i\" represents the imaginary unit, i.e., the square root of -1.\n",
    "\n",
    "For example:\n",
    "- 3 + 2i is a complex number with a real part of 3 and an imaginary part of 2.\n",
    "- -5i is a complex number with a real part of 0 and an imaginary part of -5.\n",
    "\n",
    "In Python\n",
    "They are represented in Python by using the syntax `a + bj`, \n",
    "where \"a\" is the real part, \"b\" is the imaginary part, \n",
    "and \"j\" represents the imaginary unit (instead of \"i\" used in mathematics).\n",
    "\n",
    "Here are some examples of complex numbers in Pytho\n",
    "\n",
    "# Define complex numbers\n",
    "z1 = 3 + 2j\n",
    "z2 = -5j\n",
    "z3 = 2.5 - 1.8j\n",
    "\n",
    "# Print complex numbers\n",
    "print(z1)  # Output: (3+2j)\n",
    "print(z2)  # Output: -5j\n",
    "print(z3)  # Output: (2.5-1.8j)\n"
   ]
  },
  {
   "cell_type": "raw",
   "id": "c8c37073-27a9-402b-b232-ebbd34294cf8",
   "metadata": {},
   "source": [
    "Q7. What is the correct way to declare a variable named age and assign the value 25 to it?\n",
    "answer:\n",
    "    \n",
    "age = 25\n"
   ]
  },
  {
   "cell_type": "raw",
   "id": "550643aa-4085-43a7-86f9-786195d92da1",
   "metadata": {},
   "source": [
    "Q8. Declare a variable named price and assign the value 9.99 to it. What data type does this variable\n",
    "belong to?\n",
    "answer:\n",
    "    \n",
    "price = 9.99\n",
    "Python recognizes it as a floating-point number and assigns the float data type to the variable price."
   ]
  },
  {
   "cell_type": "raw",
   "id": "8bfd884b-b70c-4447-8e87-ca0459f09202",
   "metadata": {},
   "source": [
    "\n",
    "Q9. Create a variable named name and assign your full name to it as a string. \n",
    "How would you print thevalue of this variable?\n",
    "\n",
    "answer:\n",
    "    name =Aniket bhagat \n",
    "    print(name)"
   ]
  },
  {
   "cell_type": "raw",
   "id": "a0c80e19-aecb-4369-aee1-74b698fc7daf",
   "metadata": {},
   "source": [
    "Q10. Given the string \"Hello, World!\", extract the substring \"World\".\n",
    "\n",
    "answer:\n",
    "\n",
    "my_string = \"Hello, World!\"\n",
    "substring = my_string[7:12]\n",
    "\n",
    "print(substring)\n"
   ]
  },
  {
   "cell_type": "raw",
   "id": "654ba3e4-ccab-4e64-801d-3d8e28299cde",
   "metadata": {},
   "source": [
    "Q11. Create a variable named \"is_student\" and assign it a boolean value indicating whether you are\n",
    "currently a student or not.\n",
    "answer:\n",
    "\n",
    "is_student = True \n",
    "\n",
    "or\n",
    "\n",
    "is_student = False\n",
    "\n"
   ]
  }
 ],
 "metadata": {
  "kernelspec": {
   "display_name": "Python 3 (ipykernel)",
   "language": "python",
   "name": "python3"
  },
  "language_info": {
   "codemirror_mode": {
    "name": "ipython",
    "version": 3
   },
   "file_extension": ".py",
   "mimetype": "text/x-python",
   "name": "python",
   "nbconvert_exporter": "python",
   "pygments_lexer": "ipython3",
   "version": "3.10.8"
  }
 },
 "nbformat": 4,
 "nbformat_minor": 5
}
